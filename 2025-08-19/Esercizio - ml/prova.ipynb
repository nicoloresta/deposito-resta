{
 "cells": [
  {
   "cell_type": "code",
   "execution_count": 1,
   "id": "5d1c3bfe",
   "metadata": {},
   "outputs": [],
   "source": [
    "import pandas as pd\n",
    "import numpy as np"
   ]
  },
  {
   "cell_type": "code",
   "execution_count": null,
   "id": "9d847d5b",
   "metadata": {},
   "outputs": [
    {
     "name": "stdout",
     "output_type": "stream",
     "text": [
      "<class 'pandas.core.frame.DataFrame'>\n",
      "RangeIndex: 121273 entries, 0 to 121272\n",
      "Data columns (total 2 columns):\n",
      " #   Column  Non-Null Count   Dtype         \n",
      "---  ------  --------------   -----         \n",
      " 0   AEP_MW  121273 non-null  float64       \n",
      " 1   Date    121273 non-null  datetime64[ns]\n",
      "dtypes: datetime64[ns](1), float64(1)\n",
      "memory usage: 1.9 MB\n",
      "None\n"
     ]
    }
   ],
   "source": [
    "consumption_col = 'AEP_MW'\n",
    "\n",
    "df = pd.read_csv('./rsc/AEP_hourly.csv')\n",
    "df['Date'] = pd.to_datetime(df['Datetime'])\n",
    "df = df.drop(columns=['Datetime'])\n",
    "print(df.info())"
   ]
  },
  {
   "cell_type": "markdown",
   "id": "3ff31620",
   "metadata": {},
   "source": [
    "# Classificazione rispetto alla media GLOBALE"
   ]
  },
  {
   "cell_type": "code",
   "execution_count": 3,
   "id": "d48847ac",
   "metadata": {},
   "outputs": [
    {
     "name": "stdout",
     "output_type": "stream",
     "text": [
      "         AEP_MW                Date classification_global\n",
      "0       13478.0 2004-12-31 01:00:00         Basso Consumo\n",
      "1       12865.0 2004-12-31 02:00:00         Basso Consumo\n",
      "2       12577.0 2004-12-31 03:00:00         Basso Consumo\n",
      "3       12517.0 2004-12-31 04:00:00         Basso Consumo\n",
      "4       12670.0 2004-12-31 05:00:00         Basso Consumo\n",
      "...         ...                 ...                   ...\n",
      "121268  21089.0 2018-01-01 20:00:00          Alto Consumo\n",
      "121269  20999.0 2018-01-01 21:00:00          Alto Consumo\n",
      "121270  20820.0 2018-01-01 22:00:00          Alto Consumo\n",
      "121271  20415.0 2018-01-01 23:00:00          Alto Consumo\n",
      "121272  19993.0 2018-01-02 00:00:00          Alto Consumo\n",
      "\n",
      "[121273 rows x 3 columns]\n"
     ]
    }
   ],
   "source": [
    "global_mean = df[consumption_col].mean()\n",
    "df['classification_global'] = np.where(df[consumption_col] >= global_mean, 'Alto Consumo', 'Basso Consumo')\n",
    "print(df)"
   ]
  },
  {
   "cell_type": "markdown",
   "id": "4c56ef37",
   "metadata": {},
   "source": [
    "# Classificazione rispetto alla media Settimanale"
   ]
  },
  {
   "cell_type": "code",
   "execution_count": 4,
   "id": "143af159",
   "metadata": {},
   "outputs": [
    {
     "name": "stdout",
     "output_type": "stream",
     "text": [
      "         AEP_MW                Date classification_global  week  year  \\\n",
      "0       13478.0 2004-12-31 01:00:00         Basso Consumo    53  2004   \n",
      "1       12865.0 2004-12-31 02:00:00         Basso Consumo    53  2004   \n",
      "2       12577.0 2004-12-31 03:00:00         Basso Consumo    53  2004   \n",
      "3       12517.0 2004-12-31 04:00:00         Basso Consumo    53  2004   \n",
      "4       12670.0 2004-12-31 05:00:00         Basso Consumo    53  2004   \n",
      "...         ...                 ...                   ...   ...   ...   \n",
      "121268  21089.0 2018-01-01 20:00:00          Alto Consumo     1  2018   \n",
      "121269  20999.0 2018-01-01 21:00:00          Alto Consumo     1  2018   \n",
      "121270  20820.0 2018-01-01 22:00:00          Alto Consumo     1  2018   \n",
      "121271  20415.0 2018-01-01 23:00:00          Alto Consumo     1  2018   \n",
      "121272  19993.0 2018-01-02 00:00:00          Alto Consumo     1  2018   \n",
      "\n",
      "       year_week   weekly_mean classification_weekly  \n",
      "0        2004_53  16419.700000         Basso Consumo  \n",
      "1        2004_53  16419.700000         Basso Consumo  \n",
      "2        2004_53  16419.700000         Basso Consumo  \n",
      "3        2004_53  16419.700000         Basso Consumo  \n",
      "4        2004_53  16419.700000         Basso Consumo  \n",
      "...          ...           ...                   ...  \n",
      "121268    2018_1  20491.261905          Alto Consumo  \n",
      "121269    2018_1  20491.261905          Alto Consumo  \n",
      "121270    2018_1  20491.261905          Alto Consumo  \n",
      "121271    2018_1  20491.261905         Basso Consumo  \n",
      "121272    2018_1  20491.261905         Basso Consumo  \n",
      "\n",
      "[121273 rows x 8 columns]\n"
     ]
    }
   ],
   "source": [
    "df['week'] = df['Date'].dt.isocalendar().week\n",
    "df['year'] = df['Date'].dt.year\n",
    "df['year_week'] = df['year'].astype(str) + '_' + df['week'].astype(str)\n",
    "weekly_means = df.groupby('year_week')[consumption_col].mean()\n",
    "df['weekly_mean'] = df['year_week'].map(weekly_means)\n",
    "df['classification_weekly'] = np.where(df[consumption_col] >= df['weekly_mean'], 'Alto Consumo', 'Basso Consumo')\n",
    "print(df)"
   ]
  },
  {
   "cell_type": "markdown",
   "id": "d7ea5013",
   "metadata": {},
   "source": [
    "# Classificazione rispetto alla media GIORNALIERA"
   ]
  },
  {
   "cell_type": "code",
   "execution_count": 5,
   "id": "9e2e5802",
   "metadata": {},
   "outputs": [
    {
     "name": "stdout",
     "output_type": "stream",
     "text": [
      "         AEP_MW                Date classification_global  week  year  \\\n",
      "0       13478.0 2004-12-31 01:00:00         Basso Consumo    53  2004   \n",
      "1       12865.0 2004-12-31 02:00:00         Basso Consumo    53  2004   \n",
      "2       12577.0 2004-12-31 03:00:00         Basso Consumo    53  2004   \n",
      "3       12517.0 2004-12-31 04:00:00         Basso Consumo    53  2004   \n",
      "4       12670.0 2004-12-31 05:00:00         Basso Consumo    53  2004   \n",
      "...         ...                 ...                   ...   ...   ...   \n",
      "121268  21089.0 2018-01-01 20:00:00          Alto Consumo     1  2018   \n",
      "121269  20999.0 2018-01-01 21:00:00          Alto Consumo     1  2018   \n",
      "121270  20820.0 2018-01-01 22:00:00          Alto Consumo     1  2018   \n",
      "121271  20415.0 2018-01-01 23:00:00          Alto Consumo     1  2018   \n",
      "121272  19993.0 2018-01-02 00:00:00          Alto Consumo     1  2018   \n",
      "\n",
      "       year_week   weekly_mean classification_weekly classification_daily  \n",
      "0        2004_53  16419.700000         Basso Consumo         Alto Consumo  \n",
      "1        2004_53  16419.700000         Basso Consumo         Alto Consumo  \n",
      "2        2004_53  16419.700000         Basso Consumo         Alto Consumo  \n",
      "3        2004_53  16419.700000         Basso Consumo         Alto Consumo  \n",
      "4        2004_53  16419.700000         Basso Consumo         Alto Consumo  \n",
      "...          ...           ...                   ...                  ...  \n",
      "121268    2018_1  20491.261905          Alto Consumo         Alto Consumo  \n",
      "121269    2018_1  20491.261905          Alto Consumo         Alto Consumo  \n",
      "121270    2018_1  20491.261905          Alto Consumo         Alto Consumo  \n",
      "121271    2018_1  20491.261905         Basso Consumo         Alto Consumo  \n",
      "121272    2018_1  20491.261905         Basso Consumo         Alto Consumo  \n",
      "\n",
      "[121273 rows x 9 columns]\n"
     ]
    }
   ],
   "source": [
    "daily_means = df.groupby('Date')[consumption_col].mean()\n",
    "df['daily_mean'] = df['Date'].map(daily_means)\n",
    "df['classification_daily'] = np.where(df[consumption_col] >= df['daily_mean'], 'Alto Consumo', 'Basso Consumo')\n",
    "df = df.drop(columns=['daily_mean'])\n",
    "print(df)"
   ]
  }
 ],
 "metadata": {
  "kernelspec": {
   "display_name": "Python 3",
   "language": "python",
   "name": "python3"
  },
  "language_info": {
   "codemirror_mode": {
    "name": "ipython",
    "version": 3
   },
   "file_extension": ".py",
   "mimetype": "text/x-python",
   "name": "python",
   "nbconvert_exporter": "python",
   "pygments_lexer": "ipython3",
   "version": "3.10.11"
  }
 },
 "nbformat": 4,
 "nbformat_minor": 5
}
